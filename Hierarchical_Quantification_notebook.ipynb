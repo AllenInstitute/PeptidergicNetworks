{
 "cells": [
  {
   "cell_type": "markdown",
   "metadata": {},
   "source": [
    "## Peptidergic Network Autoencoder Evaluation\n",
    "Authors: Leila Elabbady, Rohan Gala, Uygar Sumbul\n",
    "Allen Institute of Brain Science\n",
    "2018-2019"
   ]
  },
  {
   "cell_type": "markdown",
   "metadata": {},
   "source": [
    "Raw hierarchical tree file: /data/rnaseqanalysis/shiny/facs_seq/mouse_V1_ALM_20180520/dend.RData\n",
    "tree_20180520.csv was obtained using `dend_functions.R` and `dend_parents.R` functions (Ref. Rohan/Zizhen)\n",
    "\n",
    "To visually inspect the original tree, visit:\n",
    "http://molgen-shiny.corp.alleninstitute.org/heatmap_2017/?db=/data/rnaseqanalysis/shiny/facs_seq/mouse_V1_ALM_20180520"
   ]
  },
  {
   "cell_type": "code",
   "execution_count": null,
   "metadata": {},
   "outputs": [],
   "source": [
    "import matplotlib\n",
    "matplotlib.use('Agg')\n",
    "from scipy.stats import multivariate_normal as mvn\n",
    "import numpy as np\n",
    "import scipy.io as sio\n",
    "import feather\n",
    "import pandas as pd\n",
    "import datetime\n",
    "import os\n",
    "import csv\n",
    "import matplotlib.pyplot as plt"
   ]
  },
  {
   "cell_type": "markdown",
   "metadata": {},
   "source": [
    "Merge( ) will execute one merge by grabbing the lowest parent node in the hierarchical tree and setting the child node values to its own. "
   ]
  },
  {
   "cell_type": "code",
   "execution_count": null,
   "metadata": {},
   "outputs": [],
   "source": [
    "def merge(y,child,parent,clusterID,lookup,merged_nodes):\n",
    "    minind = np.nanargmin(y)\n",
    "    this_parent = child[minind]\n",
    "    c_ind = np.where(parent==this_parent)[0]\n",
    "    lookup[this_parent]=max(lookup.values())+1\n",
    "    for i in c_ind:\n",
    "        l = child[i]\n",
    "        if lookup.has_key(l):\n",
    "            old_clusterID = lookup[l]\n",
    "            old_ids = np.where(clusterID==old_clusterID)[0]  \n",
    "#             child[i]=this_parent\n",
    "#             y[minind]=np.nan \n",
    "            for oi in old_ids:\n",
    "                clusterID[oi]=lookup[this_parent]\n",
    "        else:\n",
    "            #removing glia from dictionary and setting height to none\n",
    "            lookup.pop(this_parent, None)\n",
    "            \n",
    "        child[i]=this_parent\n",
    "        y[minind]=np.nan\n",
    "    #keeping track of merged nodes\n",
    "    merged_nodes.append(this_parent)\n",
    "    return merged_nodes\n",
    "\n",
    "\n"
   ]
  },
  {
   "cell_type": "markdown",
   "metadata": {},
   "source": [
    "Calc_rindex( ) will return the average raw resolution index based on the height of the lowest correct mapping on the tree for each cell of the test set."
   ]
  },
  {
   "cell_type": "code",
   "execution_count": null,
   "metadata": {},
   "outputs": [],
   "source": [
    "def calc_rindex(predict_history,heights,children,neuron_h):\n",
    "    res_indices =np.ones(predict_history.shape[0])\n",
    "    for cell_i in range(predict_history.shape[0]):\n",
    "        correct = np.where(predict_history[cell_i,:]+1==clusterID_history[cell_i,:])[0]\n",
    "        lowest = np.min(correct)\n",
    "        for l in lookup.keys():\n",
    "            if lookup[l]== clusterID_history[cell_i,lowest]:\n",
    "                #print('label found: ',l)\n",
    "                ind = np.where(children == l)\n",
    "        res_indices[cell_i] = heights[ind]\n",
    "    res = np.mean(np.array([1-i for i in res_indices]))\n",
    "    return res,res_indices"
   ]
  },
  {
   "cell_type": "markdown",
   "metadata": {},
   "source": [
    "Data files. Below, specify the paths to the following files:\n",
    "* Hierarchical tree csv\n",
    "* Ground truth mat file\n",
    "* Autoencoder latent space mat file"
   ]
  },
  {
   "cell_type": "code",
   "execution_count": null,
   "metadata": {},
   "outputs": [],
   "source": [
    "tree_file = '/nas5/peptides/tree_20180520.csv'\n",
    "ground_truth_file = '/nas5/peptides/mouse_V1_ALM_20180520_6_5byExpression_and_NP18andGPCR29.mat'\n",
    "latent_space_file = \"/nas5/peptides/dualAE_inputZ1_6_5byExpression_and_NP18GPCR29_dim5_run0_iter10K_loss1_100_0.0Dropout_intermediate_50_bat794_neuronsOnly.mat\""
   ]
  },
  {
   "cell_type": "markdown",
   "metadata": {},
   "source": [
    "Loading  and copying hierarchical information from the tree csv that will later be used for iterative merging and resolution index calcualation"
   ]
  },
  {
   "cell_type": "code",
   "execution_count": null,
   "metadata": {},
   "outputs": [],
   "source": [
    "htree = pd.read_csv(tree_file)\n",
    "htree = htree[['x','y','leaf','label','parent','col']]\n",
    "htree['leaf'] = htree['leaf'].values==True\n",
    "htree = htree.sort_values(by=['y','x'], axis=0, ascending=[True,True]).copy(deep=True)\n",
    "htree = htree.reset_index(drop=True).copy(deep=True)\n",
    "\n",
    "#Copy of fields used for merging:\n",
    "y = htree['y'].values.copy()\n",
    "y[htree['leaf'].values]=np.nan\n",
    "child = htree['label'].values.copy()\n",
    "parent = htree['parent'].values.copy()\n",
    "leaf = htree['leaf'].values.copy()\n",
    "\n",
    "#for res_score\n",
    "children = htree['label'].values.copy()\n",
    "heights = htree['y'].values.copy() #for res_score\n"
   ]
  },
  {
   "cell_type": "markdown",
   "metadata": {},
   "source": [
    "To update cluster IDs as the tree is merged, we set up a look-up dictionary mapping the cluster/ID pairings from the ground truth file. As new clusters are formed after each merge, a new cluster ID will be added to the dictionary."
   ]
  },
  {
   "cell_type": "code",
   "execution_count": null,
   "metadata": {},
   "outputs": [],
   "source": [
    "#Loading clusters and IDs from ground truth file\n",
    "gt_contents = sio.loadmat(ground_truth_file)\n",
    "clusterID = np.squeeze(np.concatenate(np.concatenate(gt_contents[\"clusterID\"])))\n",
    "clusters = np.squeeze(np.concatenate(np.concatenate(gt_contents[\"cluster\"])))\n",
    "\n",
    "lookup = {}\n",
    "for c, id in zip(clusters,clusterID):\n",
    "    lookup[str(c)]= id"
   ]
  },
  {
   "cell_type": "markdown",
   "metadata": {},
   "source": [
    "Setting up the train and test sets for the GMM. In this case, the test set is the first 8% of the dataset, consistent with the test/train split used in the autoencoder training. Within the code, the training and test sets are referred to as e2 and et2 respectively.\n",
    "\n",
    "In order to track the performance of the GMM at every cell in the test set at each cut of the tree, two 'history' matrices are stored. One that records the predicted cluster assignment(predict_history) and a second to record the true cluster assignment (clusterID_history"
   ]
  },
  {
   "cell_type": "code",
   "execution_count": null,
   "metadata": {},
   "outputs": [],
   "source": [
    "#Loading latent space contents\n",
    "mat_contents = sio.loadmat(latent_space_file)\n",
    "\n",
    "e2 = np.array(mat_contents[\"e2\"])\n",
    "et2 = np.array(mat_contents[\"et2\"])\n",
    "thisRun = 0\n",
    "foldCount = 13\n",
    "foldSize = gt_contents[\"logOnePlusGeneExpression\"].shape[0] / foldCount\n",
    "all_ind = np.arange(gt_contents[\"logOnePlusGeneExpression\"].shape[0])\n",
    "val_ind = np.arange(foldSize+1)\n",
    "train_ind  = np.asarray(list(set(all_ind) - set(val_ind)))\n",
    "cuts = np.where(leaf ==False )[0]\n",
    "predict_history = np.zeros((val_ind.shape[0],cuts.shape[0]))\n",
    "clusterID_history = np.zeros((val_ind.shape[0],cuts.shape[0]))\n"
   ]
  },
  {
   "cell_type": "markdown",
   "metadata": {},
   "source": [
    "For each cut of the hierarchical tree, this cell will train a GMM and assign new ClusterIDs to the given test set. Once those values have been added to the predict_history matrix, the tree will be merged at it's lowest point, thereby creating a new cut, and so forth until there is only one root node left. "
   ]
  },
  {
   "cell_type": "code",
   "execution_count": null,
   "metadata": {},
   "outputs": [],
   "source": [
    "cut=0\n",
    "merged_nodes = [] \n",
    "\n",
    "while cut < cuts.shape[0]:\n",
    "    cluster_num = int(max(clusterID))\n",
    "    clusterLik = np.zeros((mat_contents[\"et2\"].shape[0], cluster_num))\n",
    "    clusterMeans = np.empty((cluster_num,int(e)))\n",
    "    clusterCovs = [None]*(cluster_num) \n",
    "\n",
    "    for cluster in range(cluster_num):\n",
    "        clusterSamples = e2[clusterID[train_ind]==cluster+1,:]\n",
    "        if clusterSamples.shape[0]>0:\n",
    "            means = np.mean(clusterSamples, axis =0)\n",
    "            clusterMeans[int(cluster),:] = means\n",
    "            if clusterSamples.shape[0]<50:\n",
    "                clusterCovs[int(cluster)] = np.diagonal(np.cov(clusterSamples,rowvar=False))\n",
    "            else:\n",
    "                clusterCovs[int(cluster)] = np.cov(clusterSamples,rowvar=False)\n",
    "\n",
    "            clusterLik[:, int(cluster)] = mvn.pdf(et2,clusterMeans[int(cluster),:], \n",
    "                                                         clusterCovs[int(cluster)])\n",
    "            \n",
    "    valClusterID = clusterID[:val_ind.shape[0]]\n",
    "    clusterID_history[:,cut] = valClusterID\n",
    "    clusterAssign = clusterLik.argmax(1)\n",
    "    predict_history[:,cut] = clusterAssign\n",
    "    merged_nodes = merge(y,child,parent,clusterID,lookup,merged_nodes)\n",
    "    cut +=1"
   ]
  },
  {
   "cell_type": "markdown",
   "metadata": {},
   "source": [
    "Now that we have the prediction and ground truth history of each cell at each cut of the hierarchical tree. We can now quantify the most complex representation of the tree that was mapped correctly by taking the resolution index for each cell at the lowest correctly assigned cluster on the tree.\n",
    "\n",
    "To account for the fact that our dataset only includes neural cells, the average resolution index is normalized of the tree height of the first neural node, here classified as 'n3'. "
   ]
  },
  {
   "cell_type": "code",
   "execution_count": null,
   "metadata": {},
   "outputs": [],
   "source": [
    "#grabbing height of n4, first neural node\n",
    "neuron = np.where(children == 'n3')\n",
    "neuron_h = heights[neuron]\n",
    "norm = 1 - neuron_h\n",
    "\n",
    "#calculating avg resIndex \n",
    "res, res_indices = calc_rindex(predict_history,heights,children,neuron_h)\n",
    "res_norm = float((res-norm)/(1-norm)) #normalizing over n3 (1-0.46)\n",
    "print(res_norm, res)"
   ]
  },
  {
   "cell_type": "code",
   "execution_count": null,
   "metadata": {},
   "outputs": [],
   "source": [
    "    #Plotting ResIndex per cell-type distribution\n",
    "    # l = clusters\n",
    "    # x = clusterID_history[:,0].astype(int)\n",
    "    # y = 1-res_indices\n",
    "    # y_norm = ((1-res_indices)-norm)/(1-norm)\n",
    "    # df = pd.DataFrame({'ClusterID':x, 'ResIndex':y_norm, 'Cell_Types':l})\n",
    "    # means = df.groupby('Cell_Types').mean()\n",
    "    #means.to_csv(\"Cell_resIndex_by_cellType.csv\")\n",
    "    #df.to_csv(\"resIndex_per_cell.csv\")\n",
    "    # r = means['ResIndex']\n",
    "\n",
    "plt.bar(y)\n",
    "y = [0.987,0.91954,0.464032,0.7681964]\n",
    "std = [0,0,0.039069179374101926,0.0688674766607247]\n",
    "\n",
    "\n",
    "    # b = means.plot(kind= 'bar',y = mask1, legend = False, stacked = False, color = \"lightblue\" ,\n",
    "    #             figsize=(35,10),rot=90,title=\"Avg ResIndex across cell-type clusters\")\n",
    "    # b = means.plot(kind= 'bar',y = mask2, legend = False, stacked = False, color = \"b\",\n",
    "    #             figsize=(35,10),rot=90,title=\"Avg ResIndex across cell-type clusters\")\n",
    "    # bar = b.get_figure()\n",
    "    # bar.tight_layout() \n",
    "    #bar.savefig('./figures/np_test1.tiff')"
   ]
  }
 ],
 "metadata": {
  "kernelspec": {
   "display_name": "Python 3",
   "language": "python",
   "name": "python3"
  },
  "language_info": {
   "codemirror_mode": {
    "name": "ipython",
    "version": 3
   },
   "file_extension": ".py",
   "mimetype": "text/x-python",
   "name": "python",
   "nbconvert_exporter": "python",
   "pygments_lexer": "ipython3",
   "version": "3.6.8"
  }
 },
 "nbformat": 4,
 "nbformat_minor": 2
}
